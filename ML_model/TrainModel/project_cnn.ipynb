{
 "cells": [
  {
   "cell_type": "code",
   "execution_count": 43,
   "metadata": {},
   "outputs": [],
   "source": [
    "from tensorflow.keras.models import Sequential\n",
    "from tensorflow.keras.layers import Dense, Convolution2D, MaxPooling2D, Flatten"
   ]
  },
  {
   "cell_type": "code",
   "execution_count": 92,
   "metadata": {},
   "outputs": [],
   "source": [
    "from tensorflow.keras.preprocessing.image import ImageDataGenerator\n",
    "train_datagen = ImageDataGenerator(rescale = 1./255, shear_range =0.2, zoom_range =0.2, horizontal_flip = True)\n",
    "test_datagen = ImageDataGenerator(rescale = 1./255)"
   ]
  },
  {
   "cell_type": "code",
   "execution_count": 93,
   "metadata": {},
   "outputs": [
    {
     "name": "stdout",
     "output_type": "stream",
     "text": [
      "Found 30 images belonging to 3 classes.\n",
      "Found 12 images belonging to 3 classes.\n"
     ]
    }
   ],
   "source": [
    "x_train = train_datagen.flow_from_directory(r'E:/IoT J comp/ML_model/train_set',target_size = (64,64),batch_size = 32,class_mode = \"categorical\")\n",
    "x_test = test_datagen.flow_from_directory(r'E:/IoT J comp/ML_model/test_set',target_size = (64,64),batch_size = 32,class_mode = \"categorical\")"
   ]
  },
  {
   "cell_type": "code",
   "execution_count": 94,
   "metadata": {},
   "outputs": [
    {
     "data": {
      "text/plain": [
       "{'cow': 0, 'elephant': 1, 'human': 2}"
      ]
     },
     "execution_count": 94,
     "metadata": {},
     "output_type": "execute_result"
    }
   ],
   "source": [
    "x_train.class_indices"
   ]
  },
  {
   "cell_type": "code",
   "execution_count": 95,
   "metadata": {},
   "outputs": [],
   "source": [
    "model=Sequential()"
   ]
  },
  {
   "cell_type": "code",
   "execution_count": 96,
   "metadata": {},
   "outputs": [],
   "source": [
    "model.add(Convolution2D(32,(2,2),input_shape = (64,64,3)))"
   ]
  },
  {
   "cell_type": "code",
   "execution_count": 97,
   "metadata": {},
   "outputs": [],
   "source": [
    "model.add(MaxPooling2D((2,2)))\n",
    "model.add(Flatten())"
   ]
  },
  {
   "cell_type": "code",
   "execution_count": 98,
   "metadata": {},
   "outputs": [],
   "source": [
    "model.add(Dense(kernel_initializer='uniform',activation='relu',units=300))"
   ]
  },
  {
   "cell_type": "code",
   "execution_count": 99,
   "metadata": {},
   "outputs": [],
   "source": [
    "model.add(Dense(kernel_initializer='uniform',activation='relu',units=100))"
   ]
  },
  {
   "cell_type": "code",
   "execution_count": 100,
   "metadata": {},
   "outputs": [],
   "source": [
    "model.add(Dense(kernel_initializer='uniform',activation='relu',units=60))"
   ]
  },
  {
   "cell_type": "code",
   "execution_count": 101,
   "metadata": {},
   "outputs": [],
   "source": [
    "model.add(Dense(units = 3, kernel_initializer=\"random_uniform\",activation=\"softmax\"))"
   ]
  },
  {
   "cell_type": "code",
   "execution_count": 102,
   "metadata": {},
   "outputs": [],
   "source": [
    "model.compile(loss='categorical_crossentropy',\n",
    "              optimizer='adam',metrics=[\"accuracy\"])"
   ]
  },
  {
   "cell_type": "code",
   "execution_count": 103,
   "metadata": {},
   "outputs": [
    {
     "name": "stdout",
     "output_type": "stream",
     "text": [
      "Epoch 1/40\n",
      "1/1 [==============================] - 1s 774ms/step - loss: 1.0988 - accuracy: 0.3333 - val_loss: 1.0985 - val_accuracy: 0.3333\n",
      "Epoch 2/40\n",
      "1/1 [==============================] - 0s 344ms/step - loss: 1.0972 - accuracy: 0.3667 - val_loss: 1.0924 - val_accuracy: 0.3333\n",
      "Epoch 3/40\n",
      "1/1 [==============================] - 0s 342ms/step - loss: 1.0848 - accuracy: 0.4000 - val_loss: 1.0826 - val_accuracy: 0.3333\n",
      "Epoch 4/40\n",
      "1/1 [==============================] - 0s 360ms/step - loss: 1.0695 - accuracy: 0.5000 - val_loss: 1.0670 - val_accuracy: 0.4167\n",
      "Epoch 5/40\n",
      "1/1 [==============================] - 0s 355ms/step - loss: 1.0450 - accuracy: 0.5333 - val_loss: 1.0570 - val_accuracy: 0.3333\n",
      "Epoch 6/40\n",
      "1/1 [==============================] - 0s 372ms/step - loss: 1.0082 - accuracy: 0.5000 - val_loss: 1.0340 - val_accuracy: 0.4167\n",
      "Epoch 7/40\n",
      "1/1 [==============================] - 0s 358ms/step - loss: 0.9693 - accuracy: 0.5667 - val_loss: 1.0074 - val_accuracy: 0.5000\n",
      "Epoch 8/40\n",
      "1/1 [==============================] - 0s 348ms/step - loss: 0.9351 - accuracy: 0.5333 - val_loss: 0.9911 - val_accuracy: 0.5000\n",
      "Epoch 9/40\n",
      "1/1 [==============================] - 0s 353ms/step - loss: 0.9100 - accuracy: 0.5000 - val_loss: 1.0052 - val_accuracy: 0.4167\n",
      "Epoch 10/40\n",
      "1/1 [==============================] - 0s 355ms/step - loss: 0.9452 - accuracy: 0.4000 - val_loss: 0.9795 - val_accuracy: 0.5833\n",
      "Epoch 11/40\n",
      "1/1 [==============================] - 0s 350ms/step - loss: 0.8685 - accuracy: 0.6667 - val_loss: 0.9464 - val_accuracy: 0.5833\n",
      "Epoch 12/40\n",
      "1/1 [==============================] - 0s 348ms/step - loss: 0.8533 - accuracy: 0.7000 - val_loss: 0.8928 - val_accuracy: 0.7500\n",
      "Epoch 13/40\n",
      "1/1 [==============================] - 0s 340ms/step - loss: 0.8380 - accuracy: 0.8000 - val_loss: 0.8419 - val_accuracy: 0.7500\n",
      "Epoch 14/40\n",
      "1/1 [==============================] - 0s 356ms/step - loss: 0.7686 - accuracy: 0.7333 - val_loss: 0.8098 - val_accuracy: 0.6667\n",
      "Epoch 15/40\n",
      "1/1 [==============================] - 0s 353ms/step - loss: 0.7076 - accuracy: 0.7000 - val_loss: 0.7975 - val_accuracy: 0.7500\n",
      "Epoch 16/40\n",
      "1/1 [==============================] - 0s 339ms/step - loss: 0.7217 - accuracy: 0.6667 - val_loss: 0.7138 - val_accuracy: 0.8333\n",
      "Epoch 17/40\n",
      "1/1 [==============================] - 0s 362ms/step - loss: 0.6441 - accuracy: 0.8333 - val_loss: 0.7137 - val_accuracy: 0.8333\n",
      "Epoch 18/40\n",
      "1/1 [==============================] - 0s 349ms/step - loss: 0.6085 - accuracy: 0.9000 - val_loss: 0.6418 - val_accuracy: 0.8333\n",
      "Epoch 19/40\n",
      "1/1 [==============================] - 0s 354ms/step - loss: 0.5636 - accuracy: 0.8667 - val_loss: 0.5854 - val_accuracy: 0.9167\n",
      "Epoch 20/40\n",
      "1/1 [==============================] - 0s 354ms/step - loss: 0.5385 - accuracy: 0.9333 - val_loss: 0.5588 - val_accuracy: 0.9167\n",
      "Epoch 21/40\n",
      "1/1 [==============================] - 0s 358ms/step - loss: 0.5035 - accuracy: 0.9000 - val_loss: 0.4844 - val_accuracy: 0.9167\n",
      "Epoch 22/40\n",
      "1/1 [==============================] - 0s 359ms/step - loss: 0.4289 - accuracy: 0.9333 - val_loss: 0.4729 - val_accuracy: 0.9167\n",
      "Epoch 23/40\n",
      "1/1 [==============================] - 0s 361ms/step - loss: 0.4400 - accuracy: 0.8667 - val_loss: 0.3969 - val_accuracy: 0.9167\n",
      "Epoch 24/40\n",
      "1/1 [==============================] - 0s 359ms/step - loss: 0.3911 - accuracy: 0.9000 - val_loss: 0.3846 - val_accuracy: 0.9167\n",
      "Epoch 25/40\n",
      "1/1 [==============================] - 0s 357ms/step - loss: 0.3284 - accuracy: 0.9667 - val_loss: 0.3028 - val_accuracy: 0.9167\n",
      "Epoch 26/40\n",
      "1/1 [==============================] - 0s 350ms/step - loss: 0.2989 - accuracy: 0.9333 - val_loss: 0.3309 - val_accuracy: 0.9167\n",
      "Epoch 27/40\n",
      "1/1 [==============================] - 0s 358ms/step - loss: 0.2653 - accuracy: 1.0000 - val_loss: 0.2201 - val_accuracy: 0.9167\n",
      "Epoch 28/40\n",
      "1/1 [==============================] - 0s 359ms/step - loss: 0.2416 - accuracy: 0.9667 - val_loss: 0.2819 - val_accuracy: 0.9167\n",
      "Epoch 29/40\n",
      "1/1 [==============================] - 0s 361ms/step - loss: 0.2679 - accuracy: 0.9333 - val_loss: 0.1816 - val_accuracy: 0.9167\n",
      "Epoch 30/40\n",
      "1/1 [==============================] - 0s 359ms/step - loss: 0.2062 - accuracy: 0.9333 - val_loss: 0.1660 - val_accuracy: 1.0000\n",
      "Epoch 31/40\n",
      "1/1 [==============================] - 0s 365ms/step - loss: 0.2021 - accuracy: 1.0000 - val_loss: 0.1064 - val_accuracy: 1.0000\n",
      "Epoch 32/40\n",
      "1/1 [==============================] - 0s 357ms/step - loss: 0.1444 - accuracy: 0.9667 - val_loss: 0.3131 - val_accuracy: 0.9167\n",
      "Epoch 33/40\n",
      "1/1 [==============================] - 0s 375ms/step - loss: 0.2390 - accuracy: 0.9000 - val_loss: 0.0724 - val_accuracy: 1.0000\n",
      "Epoch 34/40\n",
      "1/1 [==============================] - 0s 366ms/step - loss: 0.1351 - accuracy: 0.9667 - val_loss: 0.0729 - val_accuracy: 1.0000\n",
      "Epoch 35/40\n",
      "1/1 [==============================] - 0s 361ms/step - loss: 0.1251 - accuracy: 0.9667 - val_loss: 0.1925 - val_accuracy: 0.8333\n",
      "Epoch 36/40\n",
      "1/1 [==============================] - 0s 345ms/step - loss: 0.1564 - accuracy: 0.9667 - val_loss: 0.0859 - val_accuracy: 1.0000\n",
      "Epoch 37/40\n",
      "1/1 [==============================] - 0s 361ms/step - loss: 0.0826 - accuracy: 1.0000 - val_loss: 0.0458 - val_accuracy: 1.0000\n",
      "Epoch 38/40\n",
      "1/1 [==============================] - 0s 366ms/step - loss: 0.1334 - accuracy: 0.9333 - val_loss: 0.0480 - val_accuracy: 1.0000\n",
      "Epoch 39/40\n",
      "1/1 [==============================] - 0s 347ms/step - loss: 0.0399 - accuracy: 1.0000 - val_loss: 0.0935 - val_accuracy: 1.0000\n",
      "Epoch 40/40\n",
      "1/1 [==============================] - 0s 353ms/step - loss: 0.1510 - accuracy: 0.9333 - val_loss: 0.0286 - val_accuracy: 1.0000\n"
     ]
    },
    {
     "data": {
      "text/plain": [
       "<tensorflow.python.keras.callbacks.History at 0x2183cbae190>"
      ]
     },
     "execution_count": 103,
     "metadata": {},
     "output_type": "execute_result"
    }
   ],
   "source": [
    "model.fit_generator(x_train,steps_per_epoch = len(x_train),\n",
    "                    epochs=40,\n",
    "                    validation_data=x_test,\n",
    "                    validation_steps = len(x_test))"
   ]
  },
  {
   "cell_type": "code",
   "execution_count": 104,
   "metadata": {},
   "outputs": [
    {
     "name": "stdout",
     "output_type": "stream",
     "text": [
      "[[0. 0. 1.]]\n",
      "human\n"
     ]
    }
   ],
   "source": [
    "import numpy as np\n",
    "from keras.preprocessing import image\n",
    "test_image = image.load_img('E:/IoT J comp/ML_model/train_set/human/pexels-photo-614810.jpeg', target_size = (64, 64))\n",
    "test_image = image.img_to_array(test_image)\n",
    "test_image = np.expand_dims(test_image, axis = 0)\n",
    "result = model.predict(test_image)\n",
    "x_train.class_indices\n",
    "if result[0][0] == 1:\n",
    "    prediction = 'Cow'\n",
    "elif result[0][1] == 1:\n",
    "    prediction = 'elephant'\n",
    "elif result[0][2] == 1:\n",
    "    prediction = 'human'\n",
    "    \n",
    "   \n",
    "print(result)\n",
    "print(prediction)"
   ]
  },
  {
   "cell_type": "code",
   "execution_count": 105,
   "metadata": {},
   "outputs": [],
   "source": [
    "model.save('animal_custom.h5')"
   ]
  },
  {
   "cell_type": "code",
   "execution_count": 3,
   "metadata": {},
   "outputs": [
    {
     "data": {
      "text/plain": [
       "'2.5.0'"
      ]
     },
     "execution_count": 3,
     "metadata": {},
     "output_type": "execute_result"
    }
   ],
   "source": [
    "import tensorflow as tf\n",
    "tf.__version__"
   ]
  },
  {
   "cell_type": "code",
   "execution_count": null,
   "metadata": {},
   "outputs": [],
   "source": []
  }
 ],
 "metadata": {
  "interpreter": {
   "hash": "dca0ade3e726a953b501b15e8e990130d2b7799f14cfd9f4271676035ebe5511"
  },
  "kernelspec": {
   "display_name": "Python 3",
   "language": "python",
   "name": "python3"
  },
  "language_info": {
   "codemirror_mode": {
    "name": "ipython",
    "version": 3
   },
   "file_extension": ".py",
   "mimetype": "text/x-python",
   "name": "python",
   "nbconvert_exporter": "python",
   "pygments_lexer": "ipython3",
   "version": "3.8.8"
  }
 },
 "nbformat": 4,
 "nbformat_minor": 2
}
